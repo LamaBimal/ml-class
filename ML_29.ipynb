{
 "cells": [
  {
   "cell_type": "markdown",
   "metadata": {},
   "source": [
    "<img src='https://training.dwit.edu.np/frontend/images/computer-training-institute.png'>\n",
    "<h1>Data Science and Machine learning in Python</h1>\n",
    "<h3>Instructor: <a href='https://www.kaggle.com/atishadhikari'> Atish Adhikari</a></h3>\n",
    "<hr>"
   ]
  },
  {
   "cell_type": "markdown",
   "metadata": {},
   "source": [
    "### NLTK"
   ]
  },
  {
   "cell_type": "code",
   "execution_count": 2,
   "metadata": {},
   "outputs": [],
   "source": [
    "import numpy as np\n",
    "import pandas as pd\n",
    "import matplotlib.pyplot as plt\n",
    "import seaborn as sns"
   ]
  },
  {
   "cell_type": "code",
   "execution_count": 4,
   "metadata": {},
   "outputs": [],
   "source": [
    "import nltk"
   ]
  },
  {
   "cell_type": "code",
   "execution_count": 23,
   "metadata": {},
   "outputs": [],
   "source": [
    "paragraph = \"\"\"While natural language processing isn’t a new science, the technology is rapidly advancing thanks to an increased interest in human-to-machine communications, plus an availability of big data, powerful computing and enhanced algorithms. As a human, you may speak and write in English, Spanish or Chinese. But a computer’s native language – known as machine code or machine language – is largely incomprehensible to most people. At your device’s lowest levels, communication occurs not with words but through millions of zeros and ones that produce logical actions. \n",
    "\"\"\""
   ]
  },
  {
   "cell_type": "code",
   "execution_count": 24,
   "metadata": {},
   "outputs": [
    {
     "name": "stderr",
     "output_type": "stream",
     "text": [
      "[nltk_data] Downloading package punkt to\n",
      "[nltk_data]     C:\\Users\\atish\\AppData\\Roaming\\nltk_data...\n",
      "[nltk_data]   Package punkt is already up-to-date!\n"
     ]
    },
    {
     "data": {
      "text/plain": [
       "True"
      ]
     },
     "execution_count": 24,
     "metadata": {},
     "output_type": "execute_result"
    }
   ],
   "source": [
    "nltk.download('punkt')"
   ]
  },
  {
   "cell_type": "code",
   "execution_count": 25,
   "metadata": {},
   "outputs": [],
   "source": [
    "tokenized_sentences = nltk.tokenize.sent_tokenize(paragraph)"
   ]
  },
  {
   "cell_type": "code",
   "execution_count": 22,
   "metadata": {},
   "outputs": [
    {
     "data": {
      "text/plain": [
       "['Alas!',\n",
       " 'While natural language processing isn’t a new science, the technology is rapidly advancing thanks to an increased interest in human-to-machine communications, plus an availability of big data, powerful computing and enhanced algorithms.',\n",
       " 'As a human, you may speak and write in English, Spanish or Chinese.',\n",
       " 'But a computer’s native language – known as machine code or machine language – is largely incomprehensible to most people.',\n",
       " 'At your device’s lowest levels, communication occurs not with words but through millions of zeros and ones that produce logical actions.']"
      ]
     },
     "execution_count": 22,
     "metadata": {},
     "output_type": "execute_result"
    }
   ],
   "source": [
    "tokenized_sentences"
   ]
  },
  {
   "cell_type": "code",
   "execution_count": 26,
   "metadata": {},
   "outputs": [],
   "source": [
    "words = []\n",
    "\n",
    "for sentence in tokenized_sentences:\n",
    "    word_tokens = nltk.tokenize.word_tokenize(sentence)\n",
    "    words.append(word_tokens)"
   ]
  },
  {
   "cell_type": "code",
   "execution_count": 29,
   "metadata": {},
   "outputs": [],
   "source": [
    "from nltk.corpus import stopwords"
   ]
  },
  {
   "cell_type": "code",
   "execution_count": 32,
   "metadata": {},
   "outputs": [
    {
     "name": "stderr",
     "output_type": "stream",
     "text": [
      "[nltk_data] Downloading package stopwords to\n",
      "[nltk_data]     C:\\Users\\atish\\AppData\\Roaming\\nltk_data...\n",
      "[nltk_data]   Unzipping corpora\\stopwords.zip.\n"
     ]
    },
    {
     "data": {
      "text/plain": [
       "True"
      ]
     },
     "execution_count": 32,
     "metadata": {},
     "output_type": "execute_result"
    }
   ],
   "source": [
    "nltk.download('stopwords')"
   ]
  },
  {
   "cell_type": "code",
   "execution_count": 39,
   "metadata": {},
   "outputs": [
    {
     "data": {
      "text/plain": [
       "[['While',\n",
       "  'natural',\n",
       "  'language',\n",
       "  'processing',\n",
       "  'isn',\n",
       "  '’',\n",
       "  't',\n",
       "  'a',\n",
       "  'new',\n",
       "  'science',\n",
       "  ',',\n",
       "  'the',\n",
       "  'technology',\n",
       "  'is',\n",
       "  'rapidly',\n",
       "  'advancing',\n",
       "  'thanks',\n",
       "  'to',\n",
       "  'an',\n",
       "  'increased',\n",
       "  'interest',\n",
       "  'in',\n",
       "  'human-to-machine',\n",
       "  'communications',\n",
       "  ',',\n",
       "  'plus',\n",
       "  'an',\n",
       "  'availability',\n",
       "  'of',\n",
       "  'big',\n",
       "  'data',\n",
       "  ',',\n",
       "  'powerful',\n",
       "  'computing',\n",
       "  'and',\n",
       "  'enhanced',\n",
       "  'algorithms',\n",
       "  '.'],\n",
       " ['As',\n",
       "  'a',\n",
       "  'human',\n",
       "  ',',\n",
       "  'you',\n",
       "  'may',\n",
       "  'speak',\n",
       "  'and',\n",
       "  'write',\n",
       "  'in',\n",
       "  'English',\n",
       "  ',',\n",
       "  'Spanish',\n",
       "  'or',\n",
       "  'Chinese',\n",
       "  '.'],\n",
       " ['But',\n",
       "  'a',\n",
       "  'computer',\n",
       "  '’',\n",
       "  's',\n",
       "  'native',\n",
       "  'language',\n",
       "  '–',\n",
       "  'known',\n",
       "  'as',\n",
       "  'machine',\n",
       "  'code',\n",
       "  'or',\n",
       "  'machine',\n",
       "  'language',\n",
       "  '–',\n",
       "  'is',\n",
       "  'largely',\n",
       "  'incomprehensible',\n",
       "  'to',\n",
       "  'most',\n",
       "  'people',\n",
       "  '.'],\n",
       " ['At',\n",
       "  'your',\n",
       "  'device',\n",
       "  '’',\n",
       "  's',\n",
       "  'lowest',\n",
       "  'levels',\n",
       "  ',',\n",
       "  'communication',\n",
       "  'occurs',\n",
       "  'not',\n",
       "  'with',\n",
       "  'words',\n",
       "  'but',\n",
       "  'through',\n",
       "  'millions',\n",
       "  'of',\n",
       "  'zeros',\n",
       "  'and',\n",
       "  'ones',\n",
       "  'that',\n",
       "  'produce',\n",
       "  'logical',\n",
       "  'actions',\n",
       "  '.']]"
      ]
     },
     "execution_count": 39,
     "metadata": {},
     "output_type": "execute_result"
    }
   ],
   "source": [
    "words"
   ]
  },
  {
   "cell_type": "code",
   "execution_count": 35,
   "metadata": {},
   "outputs": [],
   "source": [
    "english_common = list(set(stopwords.words(\"english\")))"
   ]
  },
  {
   "cell_type": "code",
   "execution_count": 38,
   "metadata": {},
   "outputs": [],
   "source": [
    "punctuations = [\",\", '\"', \"'\", \"?\", \"!\", \"@\", \"-\", \".\", \"_\"]"
   ]
  },
  {
   "cell_type": "code",
   "execution_count": 40,
   "metadata": {},
   "outputs": [],
   "source": [
    "processed_words = []\n",
    "\n",
    "for sent in words:\n",
    "    for w in sent:\n",
    "        if (w in english_common) or (w in punctuations) or (len(w) == 1):\n",
    "            continue\n",
    "        processed_words.append(w)"
   ]
  },
  {
   "cell_type": "code",
   "execution_count": 42,
   "metadata": {},
   "outputs": [
    {
     "data": {
      "text/plain": [
       "['While',\n",
       " 'natural',\n",
       " 'language',\n",
       " 'processing',\n",
       " 'new',\n",
       " 'science',\n",
       " 'technology',\n",
       " 'rapidly',\n",
       " 'advancing',\n",
       " 'thanks',\n",
       " 'increased',\n",
       " 'interest',\n",
       " 'human-to-machine',\n",
       " 'communications',\n",
       " 'plus',\n",
       " 'availability',\n",
       " 'big',\n",
       " 'data',\n",
       " 'powerful',\n",
       " 'computing',\n",
       " 'enhanced',\n",
       " 'algorithms',\n",
       " 'As',\n",
       " 'human',\n",
       " 'may',\n",
       " 'speak',\n",
       " 'write',\n",
       " 'English',\n",
       " 'Spanish',\n",
       " 'Chinese',\n",
       " 'But',\n",
       " 'computer',\n",
       " 'native',\n",
       " 'language',\n",
       " 'known',\n",
       " 'machine',\n",
       " 'code',\n",
       " 'machine',\n",
       " 'language',\n",
       " 'largely',\n",
       " 'incomprehensible',\n",
       " 'people',\n",
       " 'At',\n",
       " 'device',\n",
       " 'lowest',\n",
       " 'levels',\n",
       " 'communication',\n",
       " 'occurs',\n",
       " 'words',\n",
       " 'millions',\n",
       " 'zeros',\n",
       " 'ones',\n",
       " 'produce',\n",
       " 'logical',\n",
       " 'actions']"
      ]
     },
     "execution_count": 42,
     "metadata": {},
     "output_type": "execute_result"
    }
   ],
   "source": [
    "processed_words"
   ]
  },
  {
   "cell_type": "code",
   "execution_count": 43,
   "metadata": {},
   "outputs": [],
   "source": [
    "from nltk.stem import PorterStemmer, LancasterStemmer, WordNetLemmatizer"
   ]
  },
  {
   "cell_type": "code",
   "execution_count": 52,
   "metadata": {},
   "outputs": [
    {
     "name": "stderr",
     "output_type": "stream",
     "text": [
      "[nltk_data] Downloading package wordnet to\n",
      "[nltk_data]     C:\\Users\\atish\\AppData\\Roaming\\nltk_data...\n",
      "[nltk_data]   Unzipping corpora\\wordnet.zip.\n"
     ]
    },
    {
     "data": {
      "text/plain": [
       "True"
      ]
     },
     "execution_count": 52,
     "metadata": {},
     "output_type": "execute_result"
    }
   ],
   "source": [
    "nltk.download('wordnet')"
   ]
  },
  {
   "cell_type": "code",
   "execution_count": 55,
   "metadata": {},
   "outputs": [],
   "source": [
    "root_words = []\n",
    "processed_words.extend([\"knives\", \"trees\"])\n",
    "for word in processed_words:\n",
    "    stemmer = WordNetLemmatizer()\n",
    "    root = stemmer.lemmatize(word)\n",
    "    root_words.append(root)"
   ]
  },
  {
   "cell_type": "code",
   "execution_count": 56,
   "metadata": {},
   "outputs": [
    {
     "data": {
      "text/plain": [
       "['While',\n",
       " 'natural',\n",
       " 'language',\n",
       " 'processing',\n",
       " 'new',\n",
       " 'science',\n",
       " 'technology',\n",
       " 'rapidly',\n",
       " 'advancing',\n",
       " 'thanks',\n",
       " 'increased',\n",
       " 'interest',\n",
       " 'human-to-machine',\n",
       " 'communication',\n",
       " 'plus',\n",
       " 'availability',\n",
       " 'big',\n",
       " 'data',\n",
       " 'powerful',\n",
       " 'computing',\n",
       " 'enhanced',\n",
       " 'algorithm',\n",
       " 'As',\n",
       " 'human',\n",
       " 'may',\n",
       " 'speak',\n",
       " 'write',\n",
       " 'English',\n",
       " 'Spanish',\n",
       " 'Chinese',\n",
       " 'But',\n",
       " 'computer',\n",
       " 'native',\n",
       " 'language',\n",
       " 'known',\n",
       " 'machine',\n",
       " 'code',\n",
       " 'machine',\n",
       " 'language',\n",
       " 'largely',\n",
       " 'incomprehensible',\n",
       " 'people',\n",
       " 'At',\n",
       " 'device',\n",
       " 'lowest',\n",
       " 'level',\n",
       " 'communication',\n",
       " 'occurs',\n",
       " 'word',\n",
       " 'million',\n",
       " 'zero',\n",
       " 'one',\n",
       " 'produce',\n",
       " 'logical',\n",
       " 'action',\n",
       " 'knife',\n",
       " 'tree']"
      ]
     },
     "execution_count": 56,
     "metadata": {},
     "output_type": "execute_result"
    }
   ],
   "source": [
    "root_words"
   ]
  },
  {
   "cell_type": "code",
   "execution_count": 59,
   "metadata": {},
   "outputs": [
    {
     "name": "stderr",
     "output_type": "stream",
     "text": [
      "[nltk_data] Downloading package averaged_perceptron_tagger to\n",
      "[nltk_data]     C:\\Users\\atish\\AppData\\Roaming\\nltk_data...\n",
      "[nltk_data]   Unzipping taggers\\averaged_perceptron_tagger.zip.\n"
     ]
    },
    {
     "data": {
      "text/plain": [
       "True"
      ]
     },
     "execution_count": 59,
     "metadata": {},
     "output_type": "execute_result"
    }
   ],
   "source": [
    "nltk.download('averaged_perceptron_tagger')"
   ]
  },
  {
   "cell_type": "code",
   "execution_count": 60,
   "metadata": {},
   "outputs": [],
   "source": [
    "tagged_words = nltk.pos_tag(root_words)"
   ]
  },
  {
   "cell_type": "code",
   "execution_count": 61,
   "metadata": {},
   "outputs": [
    {
     "data": {
      "text/plain": [
       "[('While', 'IN'),\n",
       " ('natural', 'JJ'),\n",
       " ('language', 'NN'),\n",
       " ('processing', 'VBG'),\n",
       " ('new', 'JJ'),\n",
       " ('science', 'NN'),\n",
       " ('technology', 'NN'),\n",
       " ('rapidly', 'RB'),\n",
       " ('advancing', 'VBG'),\n",
       " ('thanks', 'NNS'),\n",
       " ('increased', 'VBD'),\n",
       " ('interest', 'NN'),\n",
       " ('human-to-machine', 'NN'),\n",
       " ('communication', 'NN'),\n",
       " ('plus', 'CC'),\n",
       " ('availability', 'NN'),\n",
       " ('big', 'JJ'),\n",
       " ('data', 'NNS'),\n",
       " ('powerful', 'JJ'),\n",
       " ('computing', 'VBG'),\n",
       " ('enhanced', 'JJ'),\n",
       " ('algorithm', 'NN'),\n",
       " ('As', 'IN'),\n",
       " ('human', 'NN'),\n",
       " ('may', 'MD'),\n",
       " ('speak', 'VB'),\n",
       " ('write', 'JJ'),\n",
       " ('English', 'JJ'),\n",
       " ('Spanish', 'JJ'),\n",
       " ('Chinese', 'NNS'),\n",
       " ('But', 'CC'),\n",
       " ('computer', 'NN'),\n",
       " ('native', 'JJ'),\n",
       " ('language', 'NN'),\n",
       " ('known', 'VBN'),\n",
       " ('machine', 'NN'),\n",
       " ('code', 'NN'),\n",
       " ('machine', 'NN'),\n",
       " ('language', 'NN'),\n",
       " ('largely', 'RB'),\n",
       " ('incomprehensible', 'JJ'),\n",
       " ('people', 'NNS'),\n",
       " ('At', 'IN'),\n",
       " ('device', 'NN'),\n",
       " ('lowest', 'JJS'),\n",
       " ('level', 'NN'),\n",
       " ('communication', 'NN'),\n",
       " ('occurs', 'VBZ'),\n",
       " ('word', 'NN'),\n",
       " ('million', 'CD'),\n",
       " ('zero', 'NN'),\n",
       " ('one', 'CD'),\n",
       " ('produce', 'NN'),\n",
       " ('logical', 'JJ'),\n",
       " ('action', 'NN'),\n",
       " ('knife', 'VBD'),\n",
       " ('tree', 'NN')]"
      ]
     },
     "execution_count": 61,
     "metadata": {},
     "output_type": "execute_result"
    }
   ],
   "source": [
    "tagged_words"
   ]
  },
  {
   "cell_type": "code",
   "execution_count": 65,
   "metadata": {},
   "outputs": [
    {
     "name": "stderr",
     "output_type": "stream",
     "text": [
      "[nltk_data] Downloading package maxent_ne_chunker to\n",
      "[nltk_data]     C:\\Users\\atish\\AppData\\Roaming\\nltk_data...\n",
      "[nltk_data]   Package maxent_ne_chunker is already up-to-date!\n",
      "[nltk_data] Downloading package words to\n",
      "[nltk_data]     C:\\Users\\atish\\AppData\\Roaming\\nltk_data...\n",
      "[nltk_data]   Unzipping corpora\\words.zip.\n"
     ]
    },
    {
     "data": {
      "text/plain": [
       "True"
      ]
     },
     "execution_count": 65,
     "metadata": {},
     "output_type": "execute_result"
    }
   ],
   "source": [
    "nltk.download('maxent_ne_chunker')\n",
    "nltk.download('words')"
   ]
  },
  {
   "cell_type": "code",
   "execution_count": 66,
   "metadata": {},
   "outputs": [],
   "source": [
    "ner_tagged = nltk.chunk.ne_chunk(tagged_words)"
   ]
  },
  {
   "cell_type": "code",
   "execution_count": 68,
   "metadata": {},
   "outputs": [
    {
     "name": "stdout",
     "output_type": "stream",
     "text": [
      "(S\n",
      "  While/IN\n",
      "  natural/JJ\n",
      "  language/NN\n",
      "  processing/VBG\n",
      "  new/JJ\n",
      "  science/NN\n",
      "  technology/NN\n",
      "  rapidly/RB\n",
      "  advancing/VBG\n",
      "  thanks/NNS\n",
      "  increased/VBD\n",
      "  interest/NN\n",
      "  human-to-machine/NN\n",
      "  communication/NN\n",
      "  plus/CC\n",
      "  availability/NN\n",
      "  big/JJ\n",
      "  data/NNS\n",
      "  powerful/JJ\n",
      "  computing/VBG\n",
      "  enhanced/JJ\n",
      "  algorithm/NN\n",
      "  As/IN\n",
      "  human/NN\n",
      "  may/MD\n",
      "  speak/VB\n",
      "  write/JJ\n",
      "  English/JJ\n",
      "  (GPE Spanish/JJ)\n",
      "  Chinese/NNS\n",
      "  But/CC\n",
      "  computer/NN\n",
      "  native/JJ\n",
      "  language/NN\n",
      "  known/VBN\n",
      "  machine/NN\n",
      "  code/NN\n",
      "  machine/NN\n",
      "  language/NN\n",
      "  largely/RB\n",
      "  incomprehensible/JJ\n",
      "  people/NNS\n",
      "  At/IN\n",
      "  device/NN\n",
      "  lowest/JJS\n",
      "  level/NN\n",
      "  communication/NN\n",
      "  occurs/VBZ\n",
      "  word/NN\n",
      "  million/CD\n",
      "  zero/NN\n",
      "  one/CD\n",
      "  produce/NN\n",
      "  logical/JJ\n",
      "  action/NN\n",
      "  knife/VBD\n",
      "  tree/NN)\n"
     ]
    }
   ],
   "source": [
    "print(ner_tagged)"
   ]
  },
  {
   "cell_type": "code",
   "execution_count": null,
   "metadata": {},
   "outputs": [],
   "source": []
  }
 ],
 "metadata": {
  "kernelspec": {
   "display_name": "Python 3",
   "language": "python",
   "name": "python3"
  },
  "language_info": {
   "codemirror_mode": {
    "name": "ipython",
    "version": 3
   },
   "file_extension": ".py",
   "mimetype": "text/x-python",
   "name": "python",
   "nbconvert_exporter": "python",
   "pygments_lexer": "ipython3",
   "version": "3.6.10"
  }
 },
 "nbformat": 4,
 "nbformat_minor": 4
}

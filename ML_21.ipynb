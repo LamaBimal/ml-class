{
 "cells": [
  {
   "cell_type": "markdown",
   "metadata": {},
   "source": [
    "<img src='https://training.dwit.edu.np/frontend/images/computer-training-institute.png'>\n",
    "<h1>Data Science and Machine learning in Python</h1>\n",
    "<h3>Instructor: <a href='https://www.kaggle.com/atishadhikari'> Atish Adhikari</a><h3>\n",
    "<hr>"
   ]
  },
  {
   "cell_type": "markdown",
   "metadata": {},
   "source": [
    "### Artificial Neural Network"
   ]
  },
  {
   "cell_type": "code",
   "execution_count": 1,
   "metadata": {},
   "outputs": [],
   "source": [
    "import numpy as np\n",
    "import pandas as pd\n",
    "import matplotlib.pyplot as plt\n",
    "import seaborn as sns"
   ]
  },
  {
   "cell_type": "code",
   "execution_count": 2,
   "metadata": {},
   "outputs": [],
   "source": [
    "data = pd.read_csv(\"processed_diabetes.csv\")"
   ]
  },
  {
   "cell_type": "code",
   "execution_count": 3,
   "metadata": {},
   "outputs": [
    {
     "data": {
      "text/html": [
       "<div>\n",
       "<style scoped>\n",
       "    .dataframe tbody tr th:only-of-type {\n",
       "        vertical-align: middle;\n",
       "    }\n",
       "\n",
       "    .dataframe tbody tr th {\n",
       "        vertical-align: top;\n",
       "    }\n",
       "\n",
       "    .dataframe thead th {\n",
       "        text-align: right;\n",
       "    }\n",
       "</style>\n",
       "<table border=\"1\" class=\"dataframe\">\n",
       "  <thead>\n",
       "    <tr style=\"text-align: right;\">\n",
       "      <th></th>\n",
       "      <th>Pregnancies</th>\n",
       "      <th>Glucose</th>\n",
       "      <th>BloodPressure</th>\n",
       "      <th>SkinThickness</th>\n",
       "      <th>Insulin</th>\n",
       "      <th>BMI</th>\n",
       "      <th>DiabetesPedigreeFunction</th>\n",
       "      <th>Age</th>\n",
       "      <th>Outcome</th>\n",
       "    </tr>\n",
       "  </thead>\n",
       "  <tbody>\n",
       "    <tr>\n",
       "      <th>0</th>\n",
       "      <td>6</td>\n",
       "      <td>148</td>\n",
       "      <td>72.0</td>\n",
       "      <td>35</td>\n",
       "      <td>0</td>\n",
       "      <td>33.6</td>\n",
       "      <td>0.627</td>\n",
       "      <td>50</td>\n",
       "      <td>1</td>\n",
       "    </tr>\n",
       "    <tr>\n",
       "      <th>1</th>\n",
       "      <td>1</td>\n",
       "      <td>85</td>\n",
       "      <td>66.0</td>\n",
       "      <td>29</td>\n",
       "      <td>0</td>\n",
       "      <td>26.6</td>\n",
       "      <td>0.351</td>\n",
       "      <td>31</td>\n",
       "      <td>0</td>\n",
       "    </tr>\n",
       "    <tr>\n",
       "      <th>2</th>\n",
       "      <td>8</td>\n",
       "      <td>183</td>\n",
       "      <td>64.0</td>\n",
       "      <td>0</td>\n",
       "      <td>0</td>\n",
       "      <td>23.3</td>\n",
       "      <td>0.672</td>\n",
       "      <td>32</td>\n",
       "      <td>1</td>\n",
       "    </tr>\n",
       "    <tr>\n",
       "      <th>3</th>\n",
       "      <td>1</td>\n",
       "      <td>89</td>\n",
       "      <td>66.0</td>\n",
       "      <td>23</td>\n",
       "      <td>94</td>\n",
       "      <td>28.1</td>\n",
       "      <td>0.167</td>\n",
       "      <td>21</td>\n",
       "      <td>0</td>\n",
       "    </tr>\n",
       "    <tr>\n",
       "      <th>4</th>\n",
       "      <td>0</td>\n",
       "      <td>137</td>\n",
       "      <td>40.0</td>\n",
       "      <td>35</td>\n",
       "      <td>168</td>\n",
       "      <td>43.1</td>\n",
       "      <td>2.288</td>\n",
       "      <td>33</td>\n",
       "      <td>1</td>\n",
       "    </tr>\n",
       "  </tbody>\n",
       "</table>\n",
       "</div>"
      ],
      "text/plain": [
       "   Pregnancies  Glucose  BloodPressure  SkinThickness  Insulin   BMI  \\\n",
       "0            6      148           72.0             35        0  33.6   \n",
       "1            1       85           66.0             29        0  26.6   \n",
       "2            8      183           64.0              0        0  23.3   \n",
       "3            1       89           66.0             23       94  28.1   \n",
       "4            0      137           40.0             35      168  43.1   \n",
       "\n",
       "   DiabetesPedigreeFunction  Age  Outcome  \n",
       "0                     0.627   50        1  \n",
       "1                     0.351   31        0  \n",
       "2                     0.672   32        1  \n",
       "3                     0.167   21        0  \n",
       "4                     2.288   33        1  "
      ]
     },
     "execution_count": 3,
     "metadata": {},
     "output_type": "execute_result"
    }
   ],
   "source": [
    "data.head()"
   ]
  },
  {
   "cell_type": "code",
   "execution_count": 4,
   "metadata": {},
   "outputs": [],
   "source": [
    "col_drop = [\"Insulin\", \"SkinThickness\"]\n",
    "\n",
    "X = data.drop([\"Outcome\", *col_drop], axis=1)\n",
    "y = data[\"Outcome\"]"
   ]
  },
  {
   "cell_type": "code",
   "execution_count": 5,
   "metadata": {},
   "outputs": [],
   "source": [
    "from sklearn.preprocessing import StandardScaler\n",
    "scaler = StandardScaler()\n",
    "X = scaler.fit_transform(X)"
   ]
  },
  {
   "cell_type": "code",
   "execution_count": 6,
   "metadata": {},
   "outputs": [
    {
     "data": {
      "text/plain": [
       "(768, 6)"
      ]
     },
     "execution_count": 6,
     "metadata": {},
     "output_type": "execute_result"
    }
   ],
   "source": [
    "X.shape"
   ]
  },
  {
   "cell_type": "code",
   "execution_count": 7,
   "metadata": {},
   "outputs": [],
   "source": [
    "from sklearn.model_selection import train_test_split\n",
    "\n",
    "X_train, X_test, y_train, y_test = train_test_split(X, y)"
   ]
  },
  {
   "cell_type": "code",
   "execution_count": 8,
   "metadata": {},
   "outputs": [],
   "source": [
    "from tensorflow.keras.models import Sequential"
   ]
  },
  {
   "cell_type": "code",
   "execution_count": 9,
   "metadata": {},
   "outputs": [],
   "source": [
    "from tensorflow.keras.layers import Dense"
   ]
  },
  {
   "cell_type": "code",
   "execution_count": 10,
   "metadata": {},
   "outputs": [],
   "source": [
    "model = Sequential()\n",
    "\n",
    "model.add(Dense(input_dim=6, units=4, activation=\"tanh\"))\n",
    "model.add(Dense(units=4, activation=\"tanh\"))\n",
    "model.add(Dense(units=1, activation=\"sigmoid\"))\n",
    "\n",
    "model.compile(loss=\"binary_crossentropy\", optimizer=\"sgd\", metrics=[\"accuracy\"])"
   ]
  },
  {
   "cell_type": "code",
   "execution_count": 11,
   "metadata": {},
   "outputs": [
    {
     "name": "stdout",
     "output_type": "stream",
     "text": [
      "Model: \"sequential\"\n",
      "_________________________________________________________________\n",
      "Layer (type)                 Output Shape              Param #   \n",
      "=================================================================\n",
      "dense (Dense)                (None, 4)                 28        \n",
      "_________________________________________________________________\n",
      "dense_1 (Dense)              (None, 4)                 20        \n",
      "_________________________________________________________________\n",
      "dense_2 (Dense)              (None, 1)                 5         \n",
      "=================================================================\n",
      "Total params: 53\n",
      "Trainable params: 53\n",
      "Non-trainable params: 0\n",
      "_________________________________________________________________\n"
     ]
    }
   ],
   "source": [
    "model.summary()"
   ]
  },
  {
   "cell_type": "code",
   "execution_count": 12,
   "metadata": {},
   "outputs": [
    {
     "name": "stdout",
     "output_type": "stream",
     "text": [
      "Epoch 1/50\n",
      "22/22 [==============================] - 1s 40ms/step - loss: 0.8060 - accuracy: 0.3166 - val_loss: 0.8057 - val_accuracy: 0.3448\n",
      "Epoch 2/50\n",
      "22/22 [==============================] - 0s 12ms/step - loss: 0.7811 - accuracy: 0.3417 - val_loss: 0.7824 - val_accuracy: 0.3621\n",
      "Epoch 3/50\n",
      "22/22 [==============================] - 0s 11ms/step - loss: 0.7594 - accuracy: 0.3610 - val_loss: 0.7618 - val_accuracy: 0.3966\n",
      "Epoch 4/50\n",
      "22/22 [==============================] - 0s 9ms/step - loss: 0.7401 - accuracy: 0.3919 - val_loss: 0.7434 - val_accuracy: 0.3966\n",
      "Epoch 5/50\n",
      "22/22 [==============================] - 0s 7ms/step - loss: 0.7229 - accuracy: 0.4459 - val_loss: 0.7273 - val_accuracy: 0.4655\n",
      "Epoch 6/50\n",
      "22/22 [==============================] - 0s 11ms/step - loss: 0.7078 - accuracy: 0.5000 - val_loss: 0.7126 - val_accuracy: 0.5172\n",
      "Epoch 7/50\n",
      "22/22 [==============================] - 0s 12ms/step - loss: 0.6941 - accuracy: 0.5386 - val_loss: 0.6992 - val_accuracy: 0.5862\n",
      "Epoch 8/50\n",
      "22/22 [==============================] - 0s 11ms/step - loss: 0.6814 - accuracy: 0.5907 - val_loss: 0.6872 - val_accuracy: 0.5517\n",
      "Epoch 9/50\n",
      "22/22 [==============================] - 0s 7ms/step - loss: 0.6703 - accuracy: 0.6216 - val_loss: 0.6763 - val_accuracy: 0.5862\n",
      "Epoch 10/50\n",
      "22/22 [==============================] - 0s 9ms/step - loss: 0.6601 - accuracy: 0.6236 - val_loss: 0.6663 - val_accuracy: 0.5862\n",
      "Epoch 11/50\n",
      "22/22 [==============================] - 0s 11ms/step - loss: 0.6508 - accuracy: 0.6293 - val_loss: 0.6572 - val_accuracy: 0.6207\n",
      "Epoch 12/50\n",
      "22/22 [==============================] - 0s 12ms/step - loss: 0.6422 - accuracy: 0.6351 - val_loss: 0.6489 - val_accuracy: 0.6552\n",
      "Epoch 13/50\n",
      "22/22 [==============================] - 0s 10ms/step - loss: 0.6345 - accuracy: 0.6390 - val_loss: 0.6412 - val_accuracy: 0.6724\n",
      "Epoch 14/50\n",
      "22/22 [==============================] - 0s 7ms/step - loss: 0.6273 - accuracy: 0.6409 - val_loss: 0.6340 - val_accuracy: 0.6724\n",
      "Epoch 15/50\n",
      "22/22 [==============================] - 0s 10ms/step - loss: 0.6206 - accuracy: 0.6409 - val_loss: 0.6274 - val_accuracy: 0.6724\n",
      "Epoch 16/50\n",
      "22/22 [==============================] - 0s 9ms/step - loss: 0.6144 - accuracy: 0.6467 - val_loss: 0.6212 - val_accuracy: 0.6724\n",
      "Epoch 17/50\n",
      "22/22 [==============================] - 0s 9ms/step - loss: 0.6087 - accuracy: 0.6486 - val_loss: 0.6154 - val_accuracy: 0.6724\n",
      "Epoch 18/50\n",
      "22/22 [==============================] - 0s 9ms/step - loss: 0.6033 - accuracy: 0.6525 - val_loss: 0.6102 - val_accuracy: 0.6724\n",
      "Epoch 19/50\n",
      "22/22 [==============================] - 0s 11ms/step - loss: 0.5985 - accuracy: 0.6525 - val_loss: 0.6052 - val_accuracy: 0.6897\n",
      "Epoch 20/50\n",
      "22/22 [==============================] - 0s 12ms/step - loss: 0.5938 - accuracy: 0.6699 - val_loss: 0.6006 - val_accuracy: 0.6897\n",
      "Epoch 21/50\n",
      "22/22 [==============================] - 0s 11ms/step - loss: 0.5895 - accuracy: 0.6737 - val_loss: 0.5961 - val_accuracy: 0.7069\n",
      "Epoch 22/50\n",
      "22/22 [==============================] - 0s 11ms/step - loss: 0.5854 - accuracy: 0.6776 - val_loss: 0.5920 - val_accuracy: 0.7069\n",
      "Epoch 23/50\n",
      "22/22 [==============================] - 0s 10ms/step - loss: 0.5816 - accuracy: 0.6757 - val_loss: 0.5882 - val_accuracy: 0.7241\n",
      "Epoch 24/50\n",
      "22/22 [==============================] - 0s 11ms/step - loss: 0.5780 - accuracy: 0.6815 - val_loss: 0.5847 - val_accuracy: 0.7241\n",
      "Epoch 25/50\n",
      "22/22 [==============================] - 0s 10ms/step - loss: 0.5747 - accuracy: 0.6873 - val_loss: 0.5812 - val_accuracy: 0.7241\n",
      "Epoch 26/50\n",
      "22/22 [==============================] - 0s 13ms/step - loss: 0.5714 - accuracy: 0.6911 - val_loss: 0.5780 - val_accuracy: 0.7069\n",
      "Epoch 27/50\n",
      "22/22 [==============================] - 0s 7ms/step - loss: 0.5684 - accuracy: 0.6950 - val_loss: 0.5749 - val_accuracy: 0.7241\n",
      "Epoch 28/50\n",
      "22/22 [==============================] - 0s 4ms/step - loss: 0.5655 - accuracy: 0.6931 - val_loss: 0.5719 - val_accuracy: 0.7241\n",
      "Epoch 29/50\n",
      "22/22 [==============================] - 0s 4ms/step - loss: 0.5627 - accuracy: 0.6969 - val_loss: 0.5691 - val_accuracy: 0.7241\n",
      "Epoch 30/50\n",
      "22/22 [==============================] - 0s 5ms/step - loss: 0.5601 - accuracy: 0.6969 - val_loss: 0.5665 - val_accuracy: 0.7241\n",
      "Epoch 31/50\n",
      "22/22 [==============================] - 0s 10ms/step - loss: 0.5576 - accuracy: 0.6911 - val_loss: 0.5642 - val_accuracy: 0.7241\n",
      "Epoch 32/50\n",
      "22/22 [==============================] - 0s 10ms/step - loss: 0.5553 - accuracy: 0.6931 - val_loss: 0.5619 - val_accuracy: 0.7241\n",
      "Epoch 33/50\n",
      "22/22 [==============================] - 0s 7ms/step - loss: 0.5531 - accuracy: 0.6931 - val_loss: 0.5598 - val_accuracy: 0.7414\n",
      "Epoch 34/50\n",
      "22/22 [==============================] - 0s 8ms/step - loss: 0.5510 - accuracy: 0.6988 - val_loss: 0.5577 - val_accuracy: 0.7414\n",
      "Epoch 35/50\n",
      "22/22 [==============================] - 0s 7ms/step - loss: 0.5489 - accuracy: 0.7027 - val_loss: 0.5558 - val_accuracy: 0.7414\n",
      "Epoch 36/50\n",
      "22/22 [==============================] - 0s 7ms/step - loss: 0.5470 - accuracy: 0.7008 - val_loss: 0.5540 - val_accuracy: 0.7414\n",
      "Epoch 37/50\n",
      "22/22 [==============================] - 0s 9ms/step - loss: 0.5451 - accuracy: 0.7027 - val_loss: 0.5522 - val_accuracy: 0.7414\n",
      "Epoch 38/50\n",
      "22/22 [==============================] - 0s 11ms/step - loss: 0.5433 - accuracy: 0.7027 - val_loss: 0.5506 - val_accuracy: 0.7586\n",
      "Epoch 39/50\n",
      "22/22 [==============================] - 0s 12ms/step - loss: 0.5416 - accuracy: 0.7046 - val_loss: 0.5490 - val_accuracy: 0.7586\n",
      "Epoch 40/50\n",
      "22/22 [==============================] - 0s 10ms/step - loss: 0.5399 - accuracy: 0.7046 - val_loss: 0.5475 - val_accuracy: 0.7586\n",
      "Epoch 41/50\n",
      "22/22 [==============================] - 0s 11ms/step - loss: 0.5382 - accuracy: 0.7046 - val_loss: 0.5460 - val_accuracy: 0.7586\n",
      "Epoch 42/50\n",
      "22/22 [==============================] - 0s 11ms/step - loss: 0.5366 - accuracy: 0.7027 - val_loss: 0.5446 - val_accuracy: 0.7586\n",
      "Epoch 43/50\n",
      "22/22 [==============================] - 0s 10ms/step - loss: 0.5351 - accuracy: 0.7027 - val_loss: 0.5433 - val_accuracy: 0.7586\n",
      "Epoch 44/50\n",
      "22/22 [==============================] - 0s 11ms/step - loss: 0.5337 - accuracy: 0.6988 - val_loss: 0.5422 - val_accuracy: 0.7586\n",
      "Epoch 45/50\n",
      "22/22 [==============================] - 0s 10ms/step - loss: 0.5322 - accuracy: 0.6988 - val_loss: 0.5410 - val_accuracy: 0.7586\n",
      "Epoch 46/50\n",
      "22/22 [==============================] - 0s 11ms/step - loss: 0.5308 - accuracy: 0.7008 - val_loss: 0.5399 - val_accuracy: 0.7586\n",
      "Epoch 47/50\n",
      "22/22 [==============================] - 0s 11ms/step - loss: 0.5295 - accuracy: 0.7027 - val_loss: 0.5388 - val_accuracy: 0.7586\n",
      "Epoch 48/50\n",
      "22/22 [==============================] - 0s 11ms/step - loss: 0.5282 - accuracy: 0.7008 - val_loss: 0.5378 - val_accuracy: 0.7586\n",
      "Epoch 49/50\n",
      "22/22 [==============================] - 0s 13ms/step - loss: 0.5269 - accuracy: 0.7027 - val_loss: 0.5369 - val_accuracy: 0.7586\n",
      "Epoch 50/50\n",
      "22/22 [==============================] - 0s 11ms/step - loss: 0.5257 - accuracy: 0.6988 - val_loss: 0.5361 - val_accuracy: 0.7414\n"
     ]
    },
    {
     "data": {
      "text/plain": [
       "<tensorflow.python.keras.callbacks.History at 0x20d9e8f1978>"
      ]
     },
     "execution_count": 12,
     "metadata": {},
     "output_type": "execute_result"
    }
   ],
   "source": [
    "model.fit(X_train, y_train, validation_split=0.1, epochs=50, batch_size=24)"
   ]
  },
  {
   "cell_type": "code",
   "execution_count": 13,
   "metadata": {},
   "outputs": [],
   "source": [
    "y_pred = model.predict(X_test)"
   ]
  },
  {
   "cell_type": "code",
   "execution_count": 14,
   "metadata": {},
   "outputs": [
    {
     "data": {
      "text/plain": [
       "array([[0.23455119],\n",
       "       [0.6101236 ],\n",
       "       [0.20298064],\n",
       "       [0.14998567],\n",
       "       [0.20949161],\n",
       "       [0.19675279],\n",
       "       [0.13082808],\n",
       "       [0.13988754],\n",
       "       [0.41762328],\n",
       "       [0.13349366],\n",
       "       [0.6223255 ],\n",
       "       [0.1610387 ],\n",
       "       [0.14926594],\n",
       "       [0.59631896],\n",
       "       [0.3037031 ],\n",
       "       [0.20872793],\n",
       "       [0.59889144],\n",
       "       [0.2862449 ],\n",
       "       [0.46576217],\n",
       "       [0.12705013],\n",
       "       [0.14058813],\n",
       "       [0.3921275 ],\n",
       "       [0.3253219 ],\n",
       "       [0.15366513],\n",
       "       [0.15407836],\n",
       "       [0.16948485],\n",
       "       [0.22868735],\n",
       "       [0.51980454],\n",
       "       [0.19269985],\n",
       "       [0.31496423],\n",
       "       [0.6332475 ],\n",
       "       [0.5581997 ],\n",
       "       [0.19137573],\n",
       "       [0.61064833],\n",
       "       [0.17696032],\n",
       "       [0.6216737 ],\n",
       "       [0.2447969 ],\n",
       "       [0.1341174 ],\n",
       "       [0.1593382 ],\n",
       "       [0.5249779 ],\n",
       "       [0.17252758],\n",
       "       [0.15060696],\n",
       "       [0.55828553],\n",
       "       [0.54354227],\n",
       "       [0.19641691],\n",
       "       [0.47397125],\n",
       "       [0.18543538],\n",
       "       [0.5565974 ],\n",
       "       [0.23939776],\n",
       "       [0.65358615],\n",
       "       [0.14986184],\n",
       "       [0.38743067],\n",
       "       [0.16206074],\n",
       "       [0.5801669 ],\n",
       "       [0.50100505],\n",
       "       [0.14449981],\n",
       "       [0.6619283 ],\n",
       "       [0.6192166 ],\n",
       "       [0.19075224],\n",
       "       [0.5904332 ],\n",
       "       [0.17941585],\n",
       "       [0.17252329],\n",
       "       [0.4812551 ],\n",
       "       [0.55420053],\n",
       "       [0.13544366],\n",
       "       [0.3569961 ],\n",
       "       [0.52954376],\n",
       "       [0.19416657],\n",
       "       [0.3047248 ],\n",
       "       [0.13558841],\n",
       "       [0.3126662 ],\n",
       "       [0.15825966],\n",
       "       [0.20772603],\n",
       "       [0.60951835],\n",
       "       [0.15065637],\n",
       "       [0.5035625 ],\n",
       "       [0.14845133],\n",
       "       [0.66645956],\n",
       "       [0.5158474 ],\n",
       "       [0.54227716],\n",
       "       [0.43071926],\n",
       "       [0.1706821 ],\n",
       "       [0.1651114 ],\n",
       "       [0.13038427],\n",
       "       [0.2747482 ],\n",
       "       [0.28539893],\n",
       "       [0.12504992],\n",
       "       [0.1795767 ],\n",
       "       [0.5862051 ],\n",
       "       [0.34456664],\n",
       "       [0.61620796],\n",
       "       [0.19611019],\n",
       "       [0.49865106],\n",
       "       [0.45685223],\n",
       "       [0.12793949],\n",
       "       [0.5906276 ],\n",
       "       [0.3312558 ],\n",
       "       [0.19725135],\n",
       "       [0.19979614],\n",
       "       [0.59823346],\n",
       "       [0.6740568 ],\n",
       "       [0.14337626],\n",
       "       [0.18688384],\n",
       "       [0.31196976],\n",
       "       [0.17372128],\n",
       "       [0.54264456],\n",
       "       [0.13734466],\n",
       "       [0.12680885],\n",
       "       [0.6482546 ],\n",
       "       [0.6568824 ],\n",
       "       [0.17973399],\n",
       "       [0.60508484],\n",
       "       [0.59020406],\n",
       "       [0.6044521 ],\n",
       "       [0.15514493],\n",
       "       [0.1241307 ],\n",
       "       [0.14211515],\n",
       "       [0.12759182],\n",
       "       [0.149035  ],\n",
       "       [0.34064496],\n",
       "       [0.12881598],\n",
       "       [0.5881812 ],\n",
       "       [0.13624552],\n",
       "       [0.5817448 ],\n",
       "       [0.315713  ],\n",
       "       [0.14486063],\n",
       "       [0.5968627 ],\n",
       "       [0.50930816],\n",
       "       [0.18360591],\n",
       "       [0.5889076 ],\n",
       "       [0.5189374 ],\n",
       "       [0.18615133],\n",
       "       [0.1487355 ],\n",
       "       [0.26236546],\n",
       "       [0.14843342],\n",
       "       [0.35672432],\n",
       "       [0.43972406],\n",
       "       [0.18886846],\n",
       "       [0.42976043],\n",
       "       [0.1320442 ],\n",
       "       [0.1936113 ],\n",
       "       [0.6103467 ],\n",
       "       [0.13298309],\n",
       "       [0.14175692],\n",
       "       [0.14630732],\n",
       "       [0.5845572 ],\n",
       "       [0.19641328],\n",
       "       [0.5890345 ],\n",
       "       [0.17012346],\n",
       "       [0.63902533],\n",
       "       [0.354223  ],\n",
       "       [0.2602709 ],\n",
       "       [0.5006663 ],\n",
       "       [0.1764234 ],\n",
       "       [0.18537319],\n",
       "       [0.60082006],\n",
       "       [0.6456255 ],\n",
       "       [0.51482034],\n",
       "       [0.6209425 ],\n",
       "       [0.15169898],\n",
       "       [0.32498693],\n",
       "       [0.25044143],\n",
       "       [0.6480487 ],\n",
       "       [0.24646279],\n",
       "       [0.13340753],\n",
       "       [0.599     ],\n",
       "       [0.60838604],\n",
       "       [0.6095186 ],\n",
       "       [0.28397602],\n",
       "       [0.5821661 ],\n",
       "       [0.14431968],\n",
       "       [0.54780346],\n",
       "       [0.20069551],\n",
       "       [0.62754303],\n",
       "       [0.6388871 ],\n",
       "       [0.58524686],\n",
       "       [0.40204751],\n",
       "       [0.32769775],\n",
       "       [0.6324716 ],\n",
       "       [0.12386063],\n",
       "       [0.14191055],\n",
       "       [0.5289778 ],\n",
       "       [0.36565837],\n",
       "       [0.12846693],\n",
       "       [0.6526028 ],\n",
       "       [0.59844184],\n",
       "       [0.53194344],\n",
       "       [0.13873228],\n",
       "       [0.4342551 ],\n",
       "       [0.538877  ],\n",
       "       [0.18077973],\n",
       "       [0.6073151 ]], dtype=float32)"
      ]
     },
     "execution_count": 14,
     "metadata": {},
     "output_type": "execute_result"
    }
   ],
   "source": [
    "y_pred"
   ]
  },
  {
   "cell_type": "code",
   "execution_count": 15,
   "metadata": {},
   "outputs": [],
   "source": [
    "Y_pred_class = [1 if x > 0.5 else 0 for x in y_pred]"
   ]
  },
  {
   "cell_type": "code",
   "execution_count": 16,
   "metadata": {},
   "outputs": [],
   "source": [
    "from sklearn.metrics import accuracy_score, classification_report"
   ]
  },
  {
   "cell_type": "code",
   "execution_count": 17,
   "metadata": {},
   "outputs": [
    {
     "data": {
      "text/plain": [
       "0.7708333333333334"
      ]
     },
     "execution_count": 17,
     "metadata": {},
     "output_type": "execute_result"
    }
   ],
   "source": [
    "accuracy_score(y_test, Y_pred_class)"
   ]
  },
  {
   "cell_type": "code",
   "execution_count": 18,
   "metadata": {},
   "outputs": [
    {
     "name": "stdout",
     "output_type": "stream",
     "text": [
      "              precision    recall  f1-score   support\n",
      "\n",
      "           0       0.83      0.82      0.82       126\n",
      "           1       0.66      0.68      0.67        66\n",
      "\n",
      "    accuracy                           0.77       192\n",
      "   macro avg       0.75      0.75      0.75       192\n",
      "weighted avg       0.77      0.77      0.77       192\n",
      "\n"
     ]
    }
   ],
   "source": [
    "print(classification_report(y_test, Y_pred_class))"
   ]
  },
  {
   "cell_type": "code",
   "execution_count": 19,
   "metadata": {},
   "outputs": [
    {
     "data": {
      "text/plain": [
       "array([[0.17378367]], dtype=float32)"
      ]
     },
     "execution_count": 19,
     "metadata": {},
     "output_type": "execute_result"
    }
   ],
   "source": [
    "#Predicting on a sample\n",
    "sample = np.array([5, 121, 72, 26, 0.1, 30]).reshape(1, -1)\n",
    "sample = scaler.transform(sample)\n",
    "\n",
    "model.predict(sample)"
   ]
  },
  {
   "cell_type": "code",
   "execution_count": 20,
   "metadata": {},
   "outputs": [],
   "source": [
    "#17% probaility of being Diabetic"
   ]
  }
 ],
 "metadata": {
  "kernelspec": {
   "display_name": "Python 3",
   "language": "python",
   "name": "python3"
  },
  "language_info": {
   "codemirror_mode": {
    "name": "ipython",
    "version": 3
   },
   "file_extension": ".py",
   "mimetype": "text/x-python",
   "name": "python",
   "nbconvert_exporter": "python",
   "pygments_lexer": "ipython3",
   "version": "3.6.10"
  }
 },
 "nbformat": 4,
 "nbformat_minor": 4
}

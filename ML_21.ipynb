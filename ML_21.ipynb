{
 "cells": [
  {
   "cell_type": "markdown",
   "metadata": {},
   "source": [
    "<img src='https://training.dwit.edu.np/frontend/images/computer-training-institute.png'>\n",
    "<h1>Data Science and Machine learning in Python</h1>\n",
    "<h3>Instructor: <a href='https://www.kaggle.com/atishadhikari'> Atish Adhikari</a><h3>\n",
    "<hr>"
   ]
  },
  {
   "cell_type": "markdown",
   "metadata": {},
   "source": [
    "### Artificial Neural Network"
   ]
  },
  {
   "cell_type": "code",
   "execution_count": 1,
   "metadata": {},
   "outputs": [],
   "source": [
    "import numpy as np\n",
    "import pandas as pd\n",
    "import matplotlib.pyplot as plt\n",
    "import seaborn as sns"
   ]
  },
  {
   "cell_type": "code",
   "execution_count": 2,
   "metadata": {},
   "outputs": [],
   "source": [
    "data = pd.read_csv(\"processed_diabetes.csv\")"
   ]
  },
  {
   "cell_type": "code",
   "execution_count": 3,
   "metadata": {},
   "outputs": [
    {
     "data": {
      "text/html": [
       "<div>\n",
       "<style scoped>\n",
       "    .dataframe tbody tr th:only-of-type {\n",
       "        vertical-align: middle;\n",
       "    }\n",
       "\n",
       "    .dataframe tbody tr th {\n",
       "        vertical-align: top;\n",
       "    }\n",
       "\n",
       "    .dataframe thead th {\n",
       "        text-align: right;\n",
       "    }\n",
       "</style>\n",
       "<table border=\"1\" class=\"dataframe\">\n",
       "  <thead>\n",
       "    <tr style=\"text-align: right;\">\n",
       "      <th></th>\n",
       "      <th>Pregnancies</th>\n",
       "      <th>Glucose</th>\n",
       "      <th>BloodPressure</th>\n",
       "      <th>SkinThickness</th>\n",
       "      <th>Insulin</th>\n",
       "      <th>BMI</th>\n",
       "      <th>DiabetesPedigreeFunction</th>\n",
       "      <th>Age</th>\n",
       "      <th>Outcome</th>\n",
       "    </tr>\n",
       "  </thead>\n",
       "  <tbody>\n",
       "    <tr>\n",
       "      <th>0</th>\n",
       "      <td>6</td>\n",
       "      <td>148</td>\n",
       "      <td>72.0</td>\n",
       "      <td>35</td>\n",
       "      <td>0</td>\n",
       "      <td>33.6</td>\n",
       "      <td>0.627</td>\n",
       "      <td>50</td>\n",
       "      <td>1</td>\n",
       "    </tr>\n",
       "    <tr>\n",
       "      <th>1</th>\n",
       "      <td>1</td>\n",
       "      <td>85</td>\n",
       "      <td>66.0</td>\n",
       "      <td>29</td>\n",
       "      <td>0</td>\n",
       "      <td>26.6</td>\n",
       "      <td>0.351</td>\n",
       "      <td>31</td>\n",
       "      <td>0</td>\n",
       "    </tr>\n",
       "    <tr>\n",
       "      <th>2</th>\n",
       "      <td>8</td>\n",
       "      <td>183</td>\n",
       "      <td>64.0</td>\n",
       "      <td>0</td>\n",
       "      <td>0</td>\n",
       "      <td>23.3</td>\n",
       "      <td>0.672</td>\n",
       "      <td>32</td>\n",
       "      <td>1</td>\n",
       "    </tr>\n",
       "    <tr>\n",
       "      <th>3</th>\n",
       "      <td>1</td>\n",
       "      <td>89</td>\n",
       "      <td>66.0</td>\n",
       "      <td>23</td>\n",
       "      <td>94</td>\n",
       "      <td>28.1</td>\n",
       "      <td>0.167</td>\n",
       "      <td>21</td>\n",
       "      <td>0</td>\n",
       "    </tr>\n",
       "    <tr>\n",
       "      <th>4</th>\n",
       "      <td>0</td>\n",
       "      <td>137</td>\n",
       "      <td>40.0</td>\n",
       "      <td>35</td>\n",
       "      <td>168</td>\n",
       "      <td>43.1</td>\n",
       "      <td>2.288</td>\n",
       "      <td>33</td>\n",
       "      <td>1</td>\n",
       "    </tr>\n",
       "  </tbody>\n",
       "</table>\n",
       "</div>"
      ],
      "text/plain": [
       "   Pregnancies  Glucose  BloodPressure  SkinThickness  Insulin   BMI  \\\n",
       "0            6      148           72.0             35        0  33.6   \n",
       "1            1       85           66.0             29        0  26.6   \n",
       "2            8      183           64.0              0        0  23.3   \n",
       "3            1       89           66.0             23       94  28.1   \n",
       "4            0      137           40.0             35      168  43.1   \n",
       "\n",
       "   DiabetesPedigreeFunction  Age  Outcome  \n",
       "0                     0.627   50        1  \n",
       "1                     0.351   31        0  \n",
       "2                     0.672   32        1  \n",
       "3                     0.167   21        0  \n",
       "4                     2.288   33        1  "
      ]
     },
     "execution_count": 3,
     "metadata": {},
     "output_type": "execute_result"
    }
   ],
   "source": [
    "data.head()"
   ]
  },
  {
   "cell_type": "code",
   "execution_count": 4,
   "metadata": {},
   "outputs": [],
   "source": [
    "col_drop = [\"Insulin\", \"SkinThickness\"]\n",
    "\n",
    "X = data.drop([\"Outcome\", *col_drop], axis=1)\n",
    "y = data[\"Outcome\"]"
   ]
  },
  {
   "cell_type": "code",
   "execution_count": 5,
   "metadata": {},
   "outputs": [],
   "source": [
    "from sklearn.preprocessing import StandardScaler\n",
    "scaler = StandardScaler()\n",
    "X = scaler.fit_transform(X)"
   ]
  },
  {
   "cell_type": "code",
   "execution_count": 6,
   "metadata": {},
   "outputs": [
    {
     "data": {
      "text/plain": [
       "(768, 6)"
      ]
     },
     "execution_count": 6,
     "metadata": {},
     "output_type": "execute_result"
    }
   ],
   "source": [
    "X.shape"
   ]
  },
  {
   "cell_type": "code",
   "execution_count": 7,
   "metadata": {},
   "outputs": [],
   "source": [
    "from sklearn.model_selection import train_test_split\n",
    "\n",
    "X_train, X_test, y_train, y_test = train_test_split(X, y)"
   ]
  },
  {
   "cell_type": "code",
   "execution_count": 8,
   "metadata": {},
   "outputs": [],
   "source": [
    "from tensorflow.keras.models import Sequential"
   ]
  },
  {
   "cell_type": "code",
   "execution_count": 9,
   "metadata": {},
   "outputs": [],
   "source": [
    "from tensorflow.keras.layers import Dense"
   ]
  },
  {
   "cell_type": "code",
   "execution_count": 10,
   "metadata": {},
   "outputs": [],
   "source": [
    "model = Sequential()\n",
    "\n",
    "model.add(Dense(input_dim=6, units=4, activation=\"tanh\"))\n",
    "model.add(Dense(units=4, activation=\"tanh\"))\n",
    "model.add(Dense(units=1, activation=\"sigmoid\"))\n",
    "\n",
    "model.compile(loss=\"binary_crossentropy\", optimizer=\"sgd\", metrics=[\"accuracy\"])"
   ]
  },
  {
   "cell_type": "code",
   "execution_count": 11,
   "metadata": {},
   "outputs": [
    {
     "name": "stdout",
     "output_type": "stream",
     "text": [
      "Model: \"sequential\"\n",
      "_________________________________________________________________\n",
      "Layer (type)                 Output Shape              Param #   \n",
      "=================================================================\n",
      "dense (Dense)                (None, 4)                 28        \n",
      "_________________________________________________________________\n",
      "dense_1 (Dense)              (None, 4)                 20        \n",
      "_________________________________________________________________\n",
      "dense_2 (Dense)              (None, 1)                 5         \n",
      "=================================================================\n",
      "Total params: 53\n",
      "Trainable params: 53\n",
      "Non-trainable params: 0\n",
      "_________________________________________________________________\n"
     ]
    }
   ],
   "source": [
    "model.summary()"
   ]
  },
  {
   "cell_type": "code",
   "execution_count": 12,
   "metadata": {},
   "outputs": [
    {
     "name": "stdout",
     "output_type": "stream",
     "text": [
      "Epoch 1/50\n",
      "22/22 [==============================] - 0s 8ms/step - loss: 0.7087 - accuracy: 0.5309 - val_loss: 0.7303 - val_accuracy: 0.5000\n",
      "Epoch 2/50\n",
      "22/22 [==============================] - 0s 2ms/step - loss: 0.6788 - accuracy: 0.5695 - val_loss: 0.6948 - val_accuracy: 0.5000\n",
      "Epoch 3/50\n",
      "22/22 [==============================] - 0s 2ms/step - loss: 0.6549 - accuracy: 0.5965 - val_loss: 0.6660 - val_accuracy: 0.5690\n",
      "Epoch 4/50\n",
      "22/22 [==============================] - 0s 2ms/step - loss: 0.6357 - accuracy: 0.6120 - val_loss: 0.6425 - val_accuracy: 0.6207\n",
      "Epoch 5/50\n",
      "22/22 [==============================] - 0s 2ms/step - loss: 0.6200 - accuracy: 0.6332 - val_loss: 0.6223 - val_accuracy: 0.6379\n",
      "Epoch 6/50\n",
      "22/22 [==============================] - 0s 2ms/step - loss: 0.6066 - accuracy: 0.6506 - val_loss: 0.6055 - val_accuracy: 0.6724\n",
      "Epoch 7/50\n",
      "22/22 [==============================] - 0s 2ms/step - loss: 0.5953 - accuracy: 0.6718 - val_loss: 0.5912 - val_accuracy: 0.6724\n",
      "Epoch 8/50\n",
      "22/22 [==============================] - 0s 2ms/step - loss: 0.5859 - accuracy: 0.6834 - val_loss: 0.5790 - val_accuracy: 0.6724\n",
      "Epoch 9/50\n",
      "22/22 [==============================] - 0s 2ms/step - loss: 0.5774 - accuracy: 0.6931 - val_loss: 0.5677 - val_accuracy: 0.6897\n",
      "Epoch 10/50\n",
      "22/22 [==============================] - 0s 2ms/step - loss: 0.5697 - accuracy: 0.6950 - val_loss: 0.5577 - val_accuracy: 0.6897\n",
      "Epoch 11/50\n",
      "22/22 [==============================] - 0s 2ms/step - loss: 0.5627 - accuracy: 0.7027 - val_loss: 0.5484 - val_accuracy: 0.6897\n",
      "Epoch 12/50\n",
      "22/22 [==============================] - 0s 2ms/step - loss: 0.5562 - accuracy: 0.7124 - val_loss: 0.5401 - val_accuracy: 0.6897\n",
      "Epoch 13/50\n",
      "22/22 [==============================] - 0s 2ms/step - loss: 0.5503 - accuracy: 0.7201 - val_loss: 0.5325 - val_accuracy: 0.7069\n",
      "Epoch 14/50\n",
      "22/22 [==============================] - 0s 2ms/step - loss: 0.5448 - accuracy: 0.7181 - val_loss: 0.5254 - val_accuracy: 0.7069\n",
      "Epoch 15/50\n",
      "22/22 [==============================] - 0s 2ms/step - loss: 0.5396 - accuracy: 0.7162 - val_loss: 0.5188 - val_accuracy: 0.7069\n",
      "Epoch 16/50\n",
      "22/22 [==============================] - 0s 2ms/step - loss: 0.5348 - accuracy: 0.7201 - val_loss: 0.5129 - val_accuracy: 0.6897\n",
      "Epoch 17/50\n",
      "22/22 [==============================] - 0s 2ms/step - loss: 0.5304 - accuracy: 0.7259 - val_loss: 0.5071 - val_accuracy: 0.6897\n",
      "Epoch 18/50\n",
      "22/22 [==============================] - 0s 2ms/step - loss: 0.5260 - accuracy: 0.7259 - val_loss: 0.5018 - val_accuracy: 0.7241\n",
      "Epoch 19/50\n",
      "22/22 [==============================] - 0s 2ms/step - loss: 0.5221 - accuracy: 0.7259 - val_loss: 0.4972 - val_accuracy: 0.7241\n",
      "Epoch 20/50\n",
      "22/22 [==============================] - 0s 2ms/step - loss: 0.5183 - accuracy: 0.7297 - val_loss: 0.4927 - val_accuracy: 0.7241\n",
      "Epoch 21/50\n",
      "22/22 [==============================] - 0s 2ms/step - loss: 0.5147 - accuracy: 0.7375 - val_loss: 0.4885 - val_accuracy: 0.7414\n",
      "Epoch 22/50\n",
      "22/22 [==============================] - 0s 2ms/step - loss: 0.5114 - accuracy: 0.7432 - val_loss: 0.4848 - val_accuracy: 0.7414\n",
      "Epoch 23/50\n",
      "22/22 [==============================] - 0s 2ms/step - loss: 0.5083 - accuracy: 0.7471 - val_loss: 0.4812 - val_accuracy: 0.7414\n",
      "Epoch 24/50\n",
      "22/22 [==============================] - 0s 2ms/step - loss: 0.5055 - accuracy: 0.7471 - val_loss: 0.4781 - val_accuracy: 0.7414\n",
      "Epoch 25/50\n",
      "22/22 [==============================] - 0s 2ms/step - loss: 0.5030 - accuracy: 0.7432 - val_loss: 0.4750 - val_accuracy: 0.7586\n",
      "Epoch 26/50\n",
      "22/22 [==============================] - 0s 2ms/step - loss: 0.5003 - accuracy: 0.7471 - val_loss: 0.4724 - val_accuracy: 0.7586\n",
      "Epoch 27/50\n",
      "22/22 [==============================] - 0s 2ms/step - loss: 0.4981 - accuracy: 0.7510 - val_loss: 0.4699 - val_accuracy: 0.7586\n",
      "Epoch 28/50\n",
      "22/22 [==============================] - 0s 2ms/step - loss: 0.4960 - accuracy: 0.7568 - val_loss: 0.4676 - val_accuracy: 0.7586\n",
      "Epoch 29/50\n",
      "22/22 [==============================] - 0s 2ms/step - loss: 0.4939 - accuracy: 0.7510 - val_loss: 0.4653 - val_accuracy: 0.7759\n",
      "Epoch 30/50\n",
      "22/22 [==============================] - 0s 2ms/step - loss: 0.4922 - accuracy: 0.7568 - val_loss: 0.4634 - val_accuracy: 0.7759\n",
      "Epoch 31/50\n",
      "22/22 [==============================] - 0s 2ms/step - loss: 0.4903 - accuracy: 0.7529 - val_loss: 0.4616 - val_accuracy: 0.7759\n",
      "Epoch 32/50\n",
      "22/22 [==============================] - 0s 2ms/step - loss: 0.4889 - accuracy: 0.7587 - val_loss: 0.4599 - val_accuracy: 0.7759\n",
      "Epoch 33/50\n",
      "22/22 [==============================] - 0s 2ms/step - loss: 0.4875 - accuracy: 0.7587 - val_loss: 0.4585 - val_accuracy: 0.7586\n",
      "Epoch 34/50\n",
      "22/22 [==============================] - 0s 2ms/step - loss: 0.4860 - accuracy: 0.7645 - val_loss: 0.4572 - val_accuracy: 0.7586\n",
      "Epoch 35/50\n",
      "22/22 [==============================] - 0s 2ms/step - loss: 0.4848 - accuracy: 0.7645 - val_loss: 0.4561 - val_accuracy: 0.7586\n",
      "Epoch 36/50\n",
      "22/22 [==============================] - 0s 2ms/step - loss: 0.4836 - accuracy: 0.7625 - val_loss: 0.4550 - val_accuracy: 0.7586\n",
      "Epoch 37/50\n",
      "22/22 [==============================] - ETA: 0s - loss: 0.4484 - accuracy: 0.79 - 0s 2ms/step - loss: 0.4824 - accuracy: 0.7664 - val_loss: 0.4540 - val_accuracy: 0.7586\n",
      "Epoch 38/50\n",
      "22/22 [==============================] - 0s 2ms/step - loss: 0.4813 - accuracy: 0.7664 - val_loss: 0.4532 - val_accuracy: 0.7586\n",
      "Epoch 39/50\n",
      "22/22 [==============================] - 0s 2ms/step - loss: 0.4803 - accuracy: 0.7606 - val_loss: 0.4523 - val_accuracy: 0.7586\n",
      "Epoch 40/50\n",
      "22/22 [==============================] - 0s 2ms/step - loss: 0.4792 - accuracy: 0.7645 - val_loss: 0.4516 - val_accuracy: 0.7586\n",
      "Epoch 41/50\n",
      "22/22 [==============================] - 0s 2ms/step - loss: 0.4784 - accuracy: 0.7625 - val_loss: 0.4510 - val_accuracy: 0.7586\n",
      "Epoch 42/50\n",
      "22/22 [==============================] - 0s 2ms/step - loss: 0.4776 - accuracy: 0.7625 - val_loss: 0.4504 - val_accuracy: 0.7414\n",
      "Epoch 43/50\n",
      "22/22 [==============================] - 0s 2ms/step - loss: 0.4770 - accuracy: 0.7645 - val_loss: 0.4499 - val_accuracy: 0.7414\n",
      "Epoch 44/50\n",
      "22/22 [==============================] - 0s 2ms/step - loss: 0.4762 - accuracy: 0.7645 - val_loss: 0.4495 - val_accuracy: 0.7414\n",
      "Epoch 45/50\n",
      "22/22 [==============================] - 0s 2ms/step - loss: 0.4755 - accuracy: 0.7664 - val_loss: 0.4490 - val_accuracy: 0.7414\n",
      "Epoch 46/50\n",
      "22/22 [==============================] - 0s 2ms/step - loss: 0.4748 - accuracy: 0.7645 - val_loss: 0.4487 - val_accuracy: 0.7414\n",
      "Epoch 47/50\n",
      "22/22 [==============================] - 0s 2ms/step - loss: 0.4741 - accuracy: 0.7664 - val_loss: 0.4485 - val_accuracy: 0.7414\n",
      "Epoch 48/50\n",
      "22/22 [==============================] - 0s 2ms/step - loss: 0.4736 - accuracy: 0.7645 - val_loss: 0.4481 - val_accuracy: 0.7414\n",
      "Epoch 49/50\n",
      "22/22 [==============================] - 0s 2ms/step - loss: 0.4733 - accuracy: 0.7664 - val_loss: 0.4478 - val_accuracy: 0.7414\n",
      "Epoch 50/50\n",
      "22/22 [==============================] - 0s 2ms/step - loss: 0.4727 - accuracy: 0.7683 - val_loss: 0.4478 - val_accuracy: 0.7414\n"
     ]
    },
    {
     "data": {
      "text/plain": [
       "<tensorflow.python.keras.callbacks.History at 0x1ec3b637b70>"
      ]
     },
     "execution_count": 12,
     "metadata": {},
     "output_type": "execute_result"
    }
   ],
   "source": [
    "model.fit(X_train, y_train, validation_split=0.1, epochs=50, batch_size=24)"
   ]
  },
  {
   "cell_type": "code",
   "execution_count": 13,
   "metadata": {},
   "outputs": [],
   "source": [
    "y_pred = model.predict(X_test)"
   ]
  },
  {
   "cell_type": "code",
   "execution_count": 14,
   "metadata": {},
   "outputs": [
    {
     "data": {
      "text/plain": [
       "array([[0.05934849],\n",
       "       [0.8818115 ],\n",
       "       [0.7031971 ],\n",
       "       [0.81622684],\n",
       "       [0.1359855 ],\n",
       "       [0.54082763],\n",
       "       [0.5227148 ],\n",
       "       [0.74769866],\n",
       "       [0.5668737 ],\n",
       "       [0.33665514],\n",
       "       [0.13133729],\n",
       "       [0.43336233],\n",
       "       [0.10214561],\n",
       "       [0.06222045],\n",
       "       [0.11723271],\n",
       "       [0.7159147 ],\n",
       "       [0.5796715 ],\n",
       "       [0.7439903 ],\n",
       "       [0.55364007],\n",
       "       [0.7683277 ],\n",
       "       [0.90280527],\n",
       "       [0.0653443 ],\n",
       "       [0.3192981 ],\n",
       "       [0.10561997],\n",
       "       [0.15183207],\n",
       "       [0.5435259 ],\n",
       "       [0.19877419],\n",
       "       [0.3046295 ],\n",
       "       [0.6552743 ],\n",
       "       [0.3950818 ],\n",
       "       [0.4086926 ],\n",
       "       [0.0714106 ],\n",
       "       [0.15443778],\n",
       "       [0.10932156],\n",
       "       [0.19566196],\n",
       "       [0.1069617 ],\n",
       "       [0.229135  ],\n",
       "       [0.19932923],\n",
       "       [0.25618875],\n",
       "       [0.9038799 ],\n",
       "       [0.4998754 ],\n",
       "       [0.68314415],\n",
       "       [0.08832377],\n",
       "       [0.31046924],\n",
       "       [0.13166875],\n",
       "       [0.77221435],\n",
       "       [0.08779195],\n",
       "       [0.23109266],\n",
       "       [0.20348361],\n",
       "       [0.73354745],\n",
       "       [0.05511177],\n",
       "       [0.09704456],\n",
       "       [0.05762783],\n",
       "       [0.8832955 ],\n",
       "       [0.76745117],\n",
       "       [0.81414604],\n",
       "       [0.07632506],\n",
       "       [0.21753407],\n",
       "       [0.35146606],\n",
       "       [0.08624691],\n",
       "       [0.07485387],\n",
       "       [0.16836739],\n",
       "       [0.39752573],\n",
       "       [0.20940155],\n",
       "       [0.20984748],\n",
       "       [0.14267248],\n",
       "       [0.8999152 ],\n",
       "       [0.11154836],\n",
       "       [0.08249515],\n",
       "       [0.10333449],\n",
       "       [0.83833385],\n",
       "       [0.15620223],\n",
       "       [0.25660425],\n",
       "       [0.5008087 ],\n",
       "       [0.43134078],\n",
       "       [0.09041852],\n",
       "       [0.19406703],\n",
       "       [0.15903041],\n",
       "       [0.08495173],\n",
       "       [0.87322223],\n",
       "       [0.7430358 ],\n",
       "       [0.18921545],\n",
       "       [0.42233625],\n",
       "       [0.24772453],\n",
       "       [0.07572946],\n",
       "       [0.06157383],\n",
       "       [0.07501489],\n",
       "       [0.2982942 ],\n",
       "       [0.6063821 ],\n",
       "       [0.85196555],\n",
       "       [0.25258568],\n",
       "       [0.13424012],\n",
       "       [0.6790886 ],\n",
       "       [0.71007675],\n",
       "       [0.3064958 ],\n",
       "       [0.15054077],\n",
       "       [0.75867236],\n",
       "       [0.44439727],\n",
       "       [0.46652326],\n",
       "       [0.07574219],\n",
       "       [0.5276622 ],\n",
       "       [0.17635795],\n",
       "       [0.3222381 ],\n",
       "       [0.44223332],\n",
       "       [0.27381518],\n",
       "       [0.52876455],\n",
       "       [0.32040185],\n",
       "       [0.7046001 ],\n",
       "       [0.23990047],\n",
       "       [0.85327744],\n",
       "       [0.729754  ],\n",
       "       [0.12087473],\n",
       "       [0.05861294],\n",
       "       [0.09222284],\n",
       "       [0.5903603 ],\n",
       "       [0.845004  ],\n",
       "       [0.13700351],\n",
       "       [0.13590014],\n",
       "       [0.37541065],\n",
       "       [0.06768745],\n",
       "       [0.1737898 ],\n",
       "       [0.5195532 ],\n",
       "       [0.7726558 ],\n",
       "       [0.07496652],\n",
       "       [0.20562106],\n",
       "       [0.1944828 ],\n",
       "       [0.5095371 ],\n",
       "       [0.10055485],\n",
       "       [0.6613195 ],\n",
       "       [0.70212203],\n",
       "       [0.6650274 ],\n",
       "       [0.06213972],\n",
       "       [0.48599172],\n",
       "       [0.11405194],\n",
       "       [0.0771803 ],\n",
       "       [0.13322362],\n",
       "       [0.22573116],\n",
       "       [0.8311281 ],\n",
       "       [0.5819547 ],\n",
       "       [0.3328423 ],\n",
       "       [0.7978387 ],\n",
       "       [0.1434162 ],\n",
       "       [0.13228148],\n",
       "       [0.47274172],\n",
       "       [0.68791556],\n",
       "       [0.61302495],\n",
       "       [0.06465042],\n",
       "       [0.8066443 ],\n",
       "       [0.1804361 ],\n",
       "       [0.87024516],\n",
       "       [0.75948596],\n",
       "       [0.15318647],\n",
       "       [0.20909947],\n",
       "       [0.11063555],\n",
       "       [0.8570051 ],\n",
       "       [0.08072743],\n",
       "       [0.18021116],\n",
       "       [0.31932843],\n",
       "       [0.16176271],\n",
       "       [0.47230724],\n",
       "       [0.6598539 ],\n",
       "       [0.5494567 ],\n",
       "       [0.32633817],\n",
       "       [0.76814187],\n",
       "       [0.18897411],\n",
       "       [0.25376153],\n",
       "       [0.19505736],\n",
       "       [0.06721267],\n",
       "       [0.08769834],\n",
       "       [0.36540723],\n",
       "       [0.8561263 ],\n",
       "       [0.07680085],\n",
       "       [0.09144238],\n",
       "       [0.8428464 ],\n",
       "       [0.70367783],\n",
       "       [0.0757699 ],\n",
       "       [0.16381991],\n",
       "       [0.36008403],\n",
       "       [0.69135845],\n",
       "       [0.0607647 ],\n",
       "       [0.13486183],\n",
       "       [0.28408736],\n",
       "       [0.79620796],\n",
       "       [0.40994784],\n",
       "       [0.19184867],\n",
       "       [0.2414223 ],\n",
       "       [0.0592632 ],\n",
       "       [0.5524355 ],\n",
       "       [0.8344965 ],\n",
       "       [0.2739185 ],\n",
       "       [0.38207498],\n",
       "       [0.2985977 ]], dtype=float32)"
      ]
     },
     "execution_count": 14,
     "metadata": {},
     "output_type": "execute_result"
    }
   ],
   "source": [
    "y_pred"
   ]
  },
  {
   "cell_type": "code",
   "execution_count": 15,
   "metadata": {},
   "outputs": [],
   "source": [
    "Y_pred_class = [1 if x > 0.5 else 0 for x in y_pred]"
   ]
  },
  {
   "cell_type": "code",
   "execution_count": 16,
   "metadata": {},
   "outputs": [],
   "source": [
    "from sklearn.metrics import accuracy_score, classification_report"
   ]
  },
  {
   "cell_type": "code",
   "execution_count": 17,
   "metadata": {},
   "outputs": [
    {
     "data": {
      "text/plain": [
       "0.78125"
      ]
     },
     "execution_count": 17,
     "metadata": {},
     "output_type": "execute_result"
    }
   ],
   "source": [
    "accuracy_score(y_test, Y_pred_class)"
   ]
  },
  {
   "cell_type": "code",
   "execution_count": 18,
   "metadata": {},
   "outputs": [
    {
     "name": "stdout",
     "output_type": "stream",
     "text": [
      "              precision    recall  f1-score   support\n",
      "\n",
      "           0       0.81      0.85      0.83       122\n",
      "           1       0.72      0.66      0.69        70\n",
      "\n",
      "    accuracy                           0.78       192\n",
      "   macro avg       0.77      0.75      0.76       192\n",
      "weighted avg       0.78      0.78      0.78       192\n",
      "\n"
     ]
    }
   ],
   "source": [
    "print(classification_report(y_test, Y_pred_class))"
   ]
  },
  {
   "cell_type": "code",
   "execution_count": 19,
   "metadata": {},
   "outputs": [
    {
     "data": {
      "text/plain": [
       "array([[0.13141574]], dtype=float32)"
      ]
     },
     "execution_count": 19,
     "metadata": {},
     "output_type": "execute_result"
    }
   ],
   "source": [
    "#Predicting on a sample\n",
    "sample = np.array([5, 121, 72, 26, 0.1, 30]).reshape(1, -1)\n",
    "sample = scaler.transform(sample)\n",
    "\n",
    "model.predict(sample)"
   ]
  },
  {
   "cell_type": "code",
   "execution_count": 20,
   "metadata": {},
   "outputs": [],
   "source": [
    "#13% probaility of being Diabetic"
   ]
  }
 ],
 "metadata": {
  "kernelspec": {
   "display_name": "Python 3",
   "language": "python",
   "name": "python3"
  },
  "language_info": {
   "codemirror_mode": {
    "name": "ipython",
    "version": 3
   },
   "file_extension": ".py",
   "mimetype": "text/x-python",
   "name": "python",
   "nbconvert_exporter": "python",
   "pygments_lexer": "ipython3",
   "version": "3.6.10"
  }
 },
 "nbformat": 4,
 "nbformat_minor": 4
}
